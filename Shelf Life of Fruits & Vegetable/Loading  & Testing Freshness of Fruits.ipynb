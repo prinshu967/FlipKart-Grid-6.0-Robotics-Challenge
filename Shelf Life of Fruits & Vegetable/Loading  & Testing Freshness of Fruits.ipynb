{
 "cells": [
  {
   "cell_type": "code",
   "execution_count": 5,
   "id": "9c54b36f",
   "metadata": {},
   "outputs": [],
   "source": [
    "import math\n",
    "import os\n",
    "import numpy as np\n",
    "from sklearn.metrics import f1_score\n",
    "from tensorflow.keras.preprocessing import image\n",
    "from tensorflow.keras.models import load_model\n",
    "from tensorflow.keras.preprocessing.image import ImageDataGenerator\n",
    "from sklearn.metrics import classification_report, f1_score, confusion_matrix\n"
   ]
  },
  {
   "cell_type": "code",
   "execution_count": 6,
   "id": "f2ce9575",
   "metadata": {},
   "outputs": [
    {
     "name": "stderr",
     "output_type": "stream",
     "text": [
      "WARNING:absl:Compiled the loaded model, but the compiled metrics have yet to be built. `model.compile_metrics` will be empty until you train or evaluate the model.\n",
      "WARNING:absl:Error in loading the saved optimizer state. As a result, your model is starting with a freshly initialized optimizer.\n"
     ]
    },
    {
     "data": {
      "text/html": [
       "<pre style=\"white-space:pre;overflow-x:auto;line-height:normal;font-family:Menlo,'DejaVu Sans Mono',consolas,'Courier New',monospace\"><span style=\"font-weight: bold\">Model: \"model\"</span>\n",
       "</pre>\n"
      ],
      "text/plain": [
       "\u001b[1mModel: \"model\"\u001b[0m\n"
      ]
     },
     "metadata": {},
     "output_type": "display_data"
    },
    {
     "data": {
      "text/html": [
       "<pre style=\"white-space:pre;overflow-x:auto;line-height:normal;font-family:Menlo,'DejaVu Sans Mono',consolas,'Courier New',monospace\">┏━━━━━━━━━━━━━━━━━━━━━━━━━━━━━━━━━━━━━━┳━━━━━━━━━━━━━━━━━━━━━━━━━━━━━┳━━━━━━━━━━━━━━━━━┓\n",
       "┃<span style=\"font-weight: bold\"> Layer (type)                         </span>┃<span style=\"font-weight: bold\"> Output Shape                </span>┃<span style=\"font-weight: bold\">         Param # </span>┃\n",
       "┡━━━━━━━━━━━━━━━━━━━━━━━━━━━━━━━━━━━━━━╇━━━━━━━━━━━━━━━━━━━━━━━━━━━━━╇━━━━━━━━━━━━━━━━━┩\n",
       "│ input_1 (<span style=\"color: #0087ff; text-decoration-color: #0087ff\">InputLayer</span>)                 │ (<span style=\"color: #00d7ff; text-decoration-color: #00d7ff\">None</span>, <span style=\"color: #00af00; text-decoration-color: #00af00\">224</span>, <span style=\"color: #00af00; text-decoration-color: #00af00\">224</span>, <span style=\"color: #00af00; text-decoration-color: #00af00\">3</span>)         │               <span style=\"color: #00af00; text-decoration-color: #00af00\">0</span> │\n",
       "├──────────────────────────────────────┼─────────────────────────────┼─────────────────┤\n",
       "│ block1_conv1 (<span style=\"color: #0087ff; text-decoration-color: #0087ff\">Conv2D</span>)                │ (<span style=\"color: #00d7ff; text-decoration-color: #00d7ff\">None</span>, <span style=\"color: #00af00; text-decoration-color: #00af00\">224</span>, <span style=\"color: #00af00; text-decoration-color: #00af00\">224</span>, <span style=\"color: #00af00; text-decoration-color: #00af00\">64</span>)        │           <span style=\"color: #00af00; text-decoration-color: #00af00\">1,792</span> │\n",
       "├──────────────────────────────────────┼─────────────────────────────┼─────────────────┤\n",
       "│ block1_conv2 (<span style=\"color: #0087ff; text-decoration-color: #0087ff\">Conv2D</span>)                │ (<span style=\"color: #00d7ff; text-decoration-color: #00d7ff\">None</span>, <span style=\"color: #00af00; text-decoration-color: #00af00\">224</span>, <span style=\"color: #00af00; text-decoration-color: #00af00\">224</span>, <span style=\"color: #00af00; text-decoration-color: #00af00\">64</span>)        │          <span style=\"color: #00af00; text-decoration-color: #00af00\">36,928</span> │\n",
       "├──────────────────────────────────────┼─────────────────────────────┼─────────────────┤\n",
       "│ block1_pool (<span style=\"color: #0087ff; text-decoration-color: #0087ff\">MaxPooling2D</span>)           │ (<span style=\"color: #00d7ff; text-decoration-color: #00d7ff\">None</span>, <span style=\"color: #00af00; text-decoration-color: #00af00\">112</span>, <span style=\"color: #00af00; text-decoration-color: #00af00\">112</span>, <span style=\"color: #00af00; text-decoration-color: #00af00\">64</span>)        │               <span style=\"color: #00af00; text-decoration-color: #00af00\">0</span> │\n",
       "├──────────────────────────────────────┼─────────────────────────────┼─────────────────┤\n",
       "│ block2_conv1 (<span style=\"color: #0087ff; text-decoration-color: #0087ff\">Conv2D</span>)                │ (<span style=\"color: #00d7ff; text-decoration-color: #00d7ff\">None</span>, <span style=\"color: #00af00; text-decoration-color: #00af00\">112</span>, <span style=\"color: #00af00; text-decoration-color: #00af00\">112</span>, <span style=\"color: #00af00; text-decoration-color: #00af00\">128</span>)       │          <span style=\"color: #00af00; text-decoration-color: #00af00\">73,856</span> │\n",
       "├──────────────────────────────────────┼─────────────────────────────┼─────────────────┤\n",
       "│ block2_conv2 (<span style=\"color: #0087ff; text-decoration-color: #0087ff\">Conv2D</span>)                │ (<span style=\"color: #00d7ff; text-decoration-color: #00d7ff\">None</span>, <span style=\"color: #00af00; text-decoration-color: #00af00\">112</span>, <span style=\"color: #00af00; text-decoration-color: #00af00\">112</span>, <span style=\"color: #00af00; text-decoration-color: #00af00\">128</span>)       │         <span style=\"color: #00af00; text-decoration-color: #00af00\">147,584</span> │\n",
       "├──────────────────────────────────────┼─────────────────────────────┼─────────────────┤\n",
       "│ block2_pool (<span style=\"color: #0087ff; text-decoration-color: #0087ff\">MaxPooling2D</span>)           │ (<span style=\"color: #00d7ff; text-decoration-color: #00d7ff\">None</span>, <span style=\"color: #00af00; text-decoration-color: #00af00\">56</span>, <span style=\"color: #00af00; text-decoration-color: #00af00\">56</span>, <span style=\"color: #00af00; text-decoration-color: #00af00\">128</span>)         │               <span style=\"color: #00af00; text-decoration-color: #00af00\">0</span> │\n",
       "├──────────────────────────────────────┼─────────────────────────────┼─────────────────┤\n",
       "│ block3_conv1 (<span style=\"color: #0087ff; text-decoration-color: #0087ff\">Conv2D</span>)                │ (<span style=\"color: #00d7ff; text-decoration-color: #00d7ff\">None</span>, <span style=\"color: #00af00; text-decoration-color: #00af00\">56</span>, <span style=\"color: #00af00; text-decoration-color: #00af00\">56</span>, <span style=\"color: #00af00; text-decoration-color: #00af00\">256</span>)         │         <span style=\"color: #00af00; text-decoration-color: #00af00\">295,168</span> │\n",
       "├──────────────────────────────────────┼─────────────────────────────┼─────────────────┤\n",
       "│ block3_conv2 (<span style=\"color: #0087ff; text-decoration-color: #0087ff\">Conv2D</span>)                │ (<span style=\"color: #00d7ff; text-decoration-color: #00d7ff\">None</span>, <span style=\"color: #00af00; text-decoration-color: #00af00\">56</span>, <span style=\"color: #00af00; text-decoration-color: #00af00\">56</span>, <span style=\"color: #00af00; text-decoration-color: #00af00\">256</span>)         │         <span style=\"color: #00af00; text-decoration-color: #00af00\">590,080</span> │\n",
       "├──────────────────────────────────────┼─────────────────────────────┼─────────────────┤\n",
       "│ block3_conv3 (<span style=\"color: #0087ff; text-decoration-color: #0087ff\">Conv2D</span>)                │ (<span style=\"color: #00d7ff; text-decoration-color: #00d7ff\">None</span>, <span style=\"color: #00af00; text-decoration-color: #00af00\">56</span>, <span style=\"color: #00af00; text-decoration-color: #00af00\">56</span>, <span style=\"color: #00af00; text-decoration-color: #00af00\">256</span>)         │         <span style=\"color: #00af00; text-decoration-color: #00af00\">590,080</span> │\n",
       "├──────────────────────────────────────┼─────────────────────────────┼─────────────────┤\n",
       "│ block3_pool (<span style=\"color: #0087ff; text-decoration-color: #0087ff\">MaxPooling2D</span>)           │ (<span style=\"color: #00d7ff; text-decoration-color: #00d7ff\">None</span>, <span style=\"color: #00af00; text-decoration-color: #00af00\">28</span>, <span style=\"color: #00af00; text-decoration-color: #00af00\">28</span>, <span style=\"color: #00af00; text-decoration-color: #00af00\">256</span>)         │               <span style=\"color: #00af00; text-decoration-color: #00af00\">0</span> │\n",
       "├──────────────────────────────────────┼─────────────────────────────┼─────────────────┤\n",
       "│ block4_conv1 (<span style=\"color: #0087ff; text-decoration-color: #0087ff\">Conv2D</span>)                │ (<span style=\"color: #00d7ff; text-decoration-color: #00d7ff\">None</span>, <span style=\"color: #00af00; text-decoration-color: #00af00\">28</span>, <span style=\"color: #00af00; text-decoration-color: #00af00\">28</span>, <span style=\"color: #00af00; text-decoration-color: #00af00\">512</span>)         │       <span style=\"color: #00af00; text-decoration-color: #00af00\">1,180,160</span> │\n",
       "├──────────────────────────────────────┼─────────────────────────────┼─────────────────┤\n",
       "│ block4_conv2 (<span style=\"color: #0087ff; text-decoration-color: #0087ff\">Conv2D</span>)                │ (<span style=\"color: #00d7ff; text-decoration-color: #00d7ff\">None</span>, <span style=\"color: #00af00; text-decoration-color: #00af00\">28</span>, <span style=\"color: #00af00; text-decoration-color: #00af00\">28</span>, <span style=\"color: #00af00; text-decoration-color: #00af00\">512</span>)         │       <span style=\"color: #00af00; text-decoration-color: #00af00\">2,359,808</span> │\n",
       "├──────────────────────────────────────┼─────────────────────────────┼─────────────────┤\n",
       "│ block4_conv3 (<span style=\"color: #0087ff; text-decoration-color: #0087ff\">Conv2D</span>)                │ (<span style=\"color: #00d7ff; text-decoration-color: #00d7ff\">None</span>, <span style=\"color: #00af00; text-decoration-color: #00af00\">28</span>, <span style=\"color: #00af00; text-decoration-color: #00af00\">28</span>, <span style=\"color: #00af00; text-decoration-color: #00af00\">512</span>)         │       <span style=\"color: #00af00; text-decoration-color: #00af00\">2,359,808</span> │\n",
       "├──────────────────────────────────────┼─────────────────────────────┼─────────────────┤\n",
       "│ block4_pool (<span style=\"color: #0087ff; text-decoration-color: #0087ff\">MaxPooling2D</span>)           │ (<span style=\"color: #00d7ff; text-decoration-color: #00d7ff\">None</span>, <span style=\"color: #00af00; text-decoration-color: #00af00\">14</span>, <span style=\"color: #00af00; text-decoration-color: #00af00\">14</span>, <span style=\"color: #00af00; text-decoration-color: #00af00\">512</span>)         │               <span style=\"color: #00af00; text-decoration-color: #00af00\">0</span> │\n",
       "├──────────────────────────────────────┼─────────────────────────────┼─────────────────┤\n",
       "│ block5_conv1 (<span style=\"color: #0087ff; text-decoration-color: #0087ff\">Conv2D</span>)                │ (<span style=\"color: #00d7ff; text-decoration-color: #00d7ff\">None</span>, <span style=\"color: #00af00; text-decoration-color: #00af00\">14</span>, <span style=\"color: #00af00; text-decoration-color: #00af00\">14</span>, <span style=\"color: #00af00; text-decoration-color: #00af00\">512</span>)         │       <span style=\"color: #00af00; text-decoration-color: #00af00\">2,359,808</span> │\n",
       "├──────────────────────────────────────┼─────────────────────────────┼─────────────────┤\n",
       "│ block5_conv2 (<span style=\"color: #0087ff; text-decoration-color: #0087ff\">Conv2D</span>)                │ (<span style=\"color: #00d7ff; text-decoration-color: #00d7ff\">None</span>, <span style=\"color: #00af00; text-decoration-color: #00af00\">14</span>, <span style=\"color: #00af00; text-decoration-color: #00af00\">14</span>, <span style=\"color: #00af00; text-decoration-color: #00af00\">512</span>)         │       <span style=\"color: #00af00; text-decoration-color: #00af00\">2,359,808</span> │\n",
       "├──────────────────────────────────────┼─────────────────────────────┼─────────────────┤\n",
       "│ block5_conv3 (<span style=\"color: #0087ff; text-decoration-color: #0087ff\">Conv2D</span>)                │ (<span style=\"color: #00d7ff; text-decoration-color: #00d7ff\">None</span>, <span style=\"color: #00af00; text-decoration-color: #00af00\">14</span>, <span style=\"color: #00af00; text-decoration-color: #00af00\">14</span>, <span style=\"color: #00af00; text-decoration-color: #00af00\">512</span>)         │       <span style=\"color: #00af00; text-decoration-color: #00af00\">2,359,808</span> │\n",
       "├──────────────────────────────────────┼─────────────────────────────┼─────────────────┤\n",
       "│ block5_pool (<span style=\"color: #0087ff; text-decoration-color: #0087ff\">MaxPooling2D</span>)           │ (<span style=\"color: #00d7ff; text-decoration-color: #00d7ff\">None</span>, <span style=\"color: #00af00; text-decoration-color: #00af00\">7</span>, <span style=\"color: #00af00; text-decoration-color: #00af00\">7</span>, <span style=\"color: #00af00; text-decoration-color: #00af00\">512</span>)           │               <span style=\"color: #00af00; text-decoration-color: #00af00\">0</span> │\n",
       "├──────────────────────────────────────┼─────────────────────────────┼─────────────────┤\n",
       "│ flatten (<span style=\"color: #0087ff; text-decoration-color: #0087ff\">Flatten</span>)                    │ (<span style=\"color: #00d7ff; text-decoration-color: #00d7ff\">None</span>, <span style=\"color: #00af00; text-decoration-color: #00af00\">25088</span>)               │               <span style=\"color: #00af00; text-decoration-color: #00af00\">0</span> │\n",
       "├──────────────────────────────────────┼─────────────────────────────┼─────────────────┤\n",
       "│ dropout (<span style=\"color: #0087ff; text-decoration-color: #0087ff\">Dropout</span>)                    │ (<span style=\"color: #00d7ff; text-decoration-color: #00d7ff\">None</span>, <span style=\"color: #00af00; text-decoration-color: #00af00\">25088</span>)               │               <span style=\"color: #00af00; text-decoration-color: #00af00\">0</span> │\n",
       "├──────────────────────────────────────┼─────────────────────────────┼─────────────────┤\n",
       "│ dense (<span style=\"color: #0087ff; text-decoration-color: #0087ff\">Dense</span>)                        │ (<span style=\"color: #00d7ff; text-decoration-color: #00d7ff\">None</span>, <span style=\"color: #00af00; text-decoration-color: #00af00\">30</span>)                  │         <span style=\"color: #00af00; text-decoration-color: #00af00\">752,670</span> │\n",
       "└──────────────────────────────────────┴─────────────────────────────┴─────────────────┘\n",
       "</pre>\n"
      ],
      "text/plain": [
       "┏━━━━━━━━━━━━━━━━━━━━━━━━━━━━━━━━━━━━━━┳━━━━━━━━━━━━━━━━━━━━━━━━━━━━━┳━━━━━━━━━━━━━━━━━┓\n",
       "┃\u001b[1m \u001b[0m\u001b[1mLayer (type)                        \u001b[0m\u001b[1m \u001b[0m┃\u001b[1m \u001b[0m\u001b[1mOutput Shape               \u001b[0m\u001b[1m \u001b[0m┃\u001b[1m \u001b[0m\u001b[1m        Param #\u001b[0m\u001b[1m \u001b[0m┃\n",
       "┡━━━━━━━━━━━━━━━━━━━━━━━━━━━━━━━━━━━━━━╇━━━━━━━━━━━━━━━━━━━━━━━━━━━━━╇━━━━━━━━━━━━━━━━━┩\n",
       "│ input_1 (\u001b[38;5;33mInputLayer\u001b[0m)                 │ (\u001b[38;5;45mNone\u001b[0m, \u001b[38;5;34m224\u001b[0m, \u001b[38;5;34m224\u001b[0m, \u001b[38;5;34m3\u001b[0m)         │               \u001b[38;5;34m0\u001b[0m │\n",
       "├──────────────────────────────────────┼─────────────────────────────┼─────────────────┤\n",
       "│ block1_conv1 (\u001b[38;5;33mConv2D\u001b[0m)                │ (\u001b[38;5;45mNone\u001b[0m, \u001b[38;5;34m224\u001b[0m, \u001b[38;5;34m224\u001b[0m, \u001b[38;5;34m64\u001b[0m)        │           \u001b[38;5;34m1,792\u001b[0m │\n",
       "├──────────────────────────────────────┼─────────────────────────────┼─────────────────┤\n",
       "│ block1_conv2 (\u001b[38;5;33mConv2D\u001b[0m)                │ (\u001b[38;5;45mNone\u001b[0m, \u001b[38;5;34m224\u001b[0m, \u001b[38;5;34m224\u001b[0m, \u001b[38;5;34m64\u001b[0m)        │          \u001b[38;5;34m36,928\u001b[0m │\n",
       "├──────────────────────────────────────┼─────────────────────────────┼─────────────────┤\n",
       "│ block1_pool (\u001b[38;5;33mMaxPooling2D\u001b[0m)           │ (\u001b[38;5;45mNone\u001b[0m, \u001b[38;5;34m112\u001b[0m, \u001b[38;5;34m112\u001b[0m, \u001b[38;5;34m64\u001b[0m)        │               \u001b[38;5;34m0\u001b[0m │\n",
       "├──────────────────────────────────────┼─────────────────────────────┼─────────────────┤\n",
       "│ block2_conv1 (\u001b[38;5;33mConv2D\u001b[0m)                │ (\u001b[38;5;45mNone\u001b[0m, \u001b[38;5;34m112\u001b[0m, \u001b[38;5;34m112\u001b[0m, \u001b[38;5;34m128\u001b[0m)       │          \u001b[38;5;34m73,856\u001b[0m │\n",
       "├──────────────────────────────────────┼─────────────────────────────┼─────────────────┤\n",
       "│ block2_conv2 (\u001b[38;5;33mConv2D\u001b[0m)                │ (\u001b[38;5;45mNone\u001b[0m, \u001b[38;5;34m112\u001b[0m, \u001b[38;5;34m112\u001b[0m, \u001b[38;5;34m128\u001b[0m)       │         \u001b[38;5;34m147,584\u001b[0m │\n",
       "├──────────────────────────────────────┼─────────────────────────────┼─────────────────┤\n",
       "│ block2_pool (\u001b[38;5;33mMaxPooling2D\u001b[0m)           │ (\u001b[38;5;45mNone\u001b[0m, \u001b[38;5;34m56\u001b[0m, \u001b[38;5;34m56\u001b[0m, \u001b[38;5;34m128\u001b[0m)         │               \u001b[38;5;34m0\u001b[0m │\n",
       "├──────────────────────────────────────┼─────────────────────────────┼─────────────────┤\n",
       "│ block3_conv1 (\u001b[38;5;33mConv2D\u001b[0m)                │ (\u001b[38;5;45mNone\u001b[0m, \u001b[38;5;34m56\u001b[0m, \u001b[38;5;34m56\u001b[0m, \u001b[38;5;34m256\u001b[0m)         │         \u001b[38;5;34m295,168\u001b[0m │\n",
       "├──────────────────────────────────────┼─────────────────────────────┼─────────────────┤\n",
       "│ block3_conv2 (\u001b[38;5;33mConv2D\u001b[0m)                │ (\u001b[38;5;45mNone\u001b[0m, \u001b[38;5;34m56\u001b[0m, \u001b[38;5;34m56\u001b[0m, \u001b[38;5;34m256\u001b[0m)         │         \u001b[38;5;34m590,080\u001b[0m │\n",
       "├──────────────────────────────────────┼─────────────────────────────┼─────────────────┤\n",
       "│ block3_conv3 (\u001b[38;5;33mConv2D\u001b[0m)                │ (\u001b[38;5;45mNone\u001b[0m, \u001b[38;5;34m56\u001b[0m, \u001b[38;5;34m56\u001b[0m, \u001b[38;5;34m256\u001b[0m)         │         \u001b[38;5;34m590,080\u001b[0m │\n",
       "├──────────────────────────────────────┼─────────────────────────────┼─────────────────┤\n",
       "│ block3_pool (\u001b[38;5;33mMaxPooling2D\u001b[0m)           │ (\u001b[38;5;45mNone\u001b[0m, \u001b[38;5;34m28\u001b[0m, \u001b[38;5;34m28\u001b[0m, \u001b[38;5;34m256\u001b[0m)         │               \u001b[38;5;34m0\u001b[0m │\n",
       "├──────────────────────────────────────┼─────────────────────────────┼─────────────────┤\n",
       "│ block4_conv1 (\u001b[38;5;33mConv2D\u001b[0m)                │ (\u001b[38;5;45mNone\u001b[0m, \u001b[38;5;34m28\u001b[0m, \u001b[38;5;34m28\u001b[0m, \u001b[38;5;34m512\u001b[0m)         │       \u001b[38;5;34m1,180,160\u001b[0m │\n",
       "├──────────────────────────────────────┼─────────────────────────────┼─────────────────┤\n",
       "│ block4_conv2 (\u001b[38;5;33mConv2D\u001b[0m)                │ (\u001b[38;5;45mNone\u001b[0m, \u001b[38;5;34m28\u001b[0m, \u001b[38;5;34m28\u001b[0m, \u001b[38;5;34m512\u001b[0m)         │       \u001b[38;5;34m2,359,808\u001b[0m │\n",
       "├──────────────────────────────────────┼─────────────────────────────┼─────────────────┤\n",
       "│ block4_conv3 (\u001b[38;5;33mConv2D\u001b[0m)                │ (\u001b[38;5;45mNone\u001b[0m, \u001b[38;5;34m28\u001b[0m, \u001b[38;5;34m28\u001b[0m, \u001b[38;5;34m512\u001b[0m)         │       \u001b[38;5;34m2,359,808\u001b[0m │\n",
       "├──────────────────────────────────────┼─────────────────────────────┼─────────────────┤\n",
       "│ block4_pool (\u001b[38;5;33mMaxPooling2D\u001b[0m)           │ (\u001b[38;5;45mNone\u001b[0m, \u001b[38;5;34m14\u001b[0m, \u001b[38;5;34m14\u001b[0m, \u001b[38;5;34m512\u001b[0m)         │               \u001b[38;5;34m0\u001b[0m │\n",
       "├──────────────────────────────────────┼─────────────────────────────┼─────────────────┤\n",
       "│ block5_conv1 (\u001b[38;5;33mConv2D\u001b[0m)                │ (\u001b[38;5;45mNone\u001b[0m, \u001b[38;5;34m14\u001b[0m, \u001b[38;5;34m14\u001b[0m, \u001b[38;5;34m512\u001b[0m)         │       \u001b[38;5;34m2,359,808\u001b[0m │\n",
       "├──────────────────────────────────────┼─────────────────────────────┼─────────────────┤\n",
       "│ block5_conv2 (\u001b[38;5;33mConv2D\u001b[0m)                │ (\u001b[38;5;45mNone\u001b[0m, \u001b[38;5;34m14\u001b[0m, \u001b[38;5;34m14\u001b[0m, \u001b[38;5;34m512\u001b[0m)         │       \u001b[38;5;34m2,359,808\u001b[0m │\n",
       "├──────────────────────────────────────┼─────────────────────────────┼─────────────────┤\n",
       "│ block5_conv3 (\u001b[38;5;33mConv2D\u001b[0m)                │ (\u001b[38;5;45mNone\u001b[0m, \u001b[38;5;34m14\u001b[0m, \u001b[38;5;34m14\u001b[0m, \u001b[38;5;34m512\u001b[0m)         │       \u001b[38;5;34m2,359,808\u001b[0m │\n",
       "├──────────────────────────────────────┼─────────────────────────────┼─────────────────┤\n",
       "│ block5_pool (\u001b[38;5;33mMaxPooling2D\u001b[0m)           │ (\u001b[38;5;45mNone\u001b[0m, \u001b[38;5;34m7\u001b[0m, \u001b[38;5;34m7\u001b[0m, \u001b[38;5;34m512\u001b[0m)           │               \u001b[38;5;34m0\u001b[0m │\n",
       "├──────────────────────────────────────┼─────────────────────────────┼─────────────────┤\n",
       "│ flatten (\u001b[38;5;33mFlatten\u001b[0m)                    │ (\u001b[38;5;45mNone\u001b[0m, \u001b[38;5;34m25088\u001b[0m)               │               \u001b[38;5;34m0\u001b[0m │\n",
       "├──────────────────────────────────────┼─────────────────────────────┼─────────────────┤\n",
       "│ dropout (\u001b[38;5;33mDropout\u001b[0m)                    │ (\u001b[38;5;45mNone\u001b[0m, \u001b[38;5;34m25088\u001b[0m)               │               \u001b[38;5;34m0\u001b[0m │\n",
       "├──────────────────────────────────────┼─────────────────────────────┼─────────────────┤\n",
       "│ dense (\u001b[38;5;33mDense\u001b[0m)                        │ (\u001b[38;5;45mNone\u001b[0m, \u001b[38;5;34m30\u001b[0m)                  │         \u001b[38;5;34m752,670\u001b[0m │\n",
       "└──────────────────────────────────────┴─────────────────────────────┴─────────────────┘\n"
      ]
     },
     "metadata": {},
     "output_type": "display_data"
    },
    {
     "data": {
      "text/html": [
       "<pre style=\"white-space:pre;overflow-x:auto;line-height:normal;font-family:Menlo,'DejaVu Sans Mono',consolas,'Courier New',monospace\"><span style=\"font-weight: bold\"> Total params: </span><span style=\"color: #00af00; text-decoration-color: #00af00\">15,467,360</span> (59.00 MB)\n",
       "</pre>\n"
      ],
      "text/plain": [
       "\u001b[1m Total params: \u001b[0m\u001b[38;5;34m15,467,360\u001b[0m (59.00 MB)\n"
      ]
     },
     "metadata": {},
     "output_type": "display_data"
    },
    {
     "data": {
      "text/html": [
       "<pre style=\"white-space:pre;overflow-x:auto;line-height:normal;font-family:Menlo,'DejaVu Sans Mono',consolas,'Courier New',monospace\"><span style=\"font-weight: bold\"> Trainable params: </span><span style=\"color: #00af00; text-decoration-color: #00af00\">752,670</span> (2.87 MB)\n",
       "</pre>\n"
      ],
      "text/plain": [
       "\u001b[1m Trainable params: \u001b[0m\u001b[38;5;34m752,670\u001b[0m (2.87 MB)\n"
      ]
     },
     "metadata": {},
     "output_type": "display_data"
    },
    {
     "data": {
      "text/html": [
       "<pre style=\"white-space:pre;overflow-x:auto;line-height:normal;font-family:Menlo,'DejaVu Sans Mono',consolas,'Courier New',monospace\"><span style=\"font-weight: bold\"> Non-trainable params: </span><span style=\"color: #00af00; text-decoration-color: #00af00\">14,714,688</span> (56.13 MB)\n",
       "</pre>\n"
      ],
      "text/plain": [
       "\u001b[1m Non-trainable params: \u001b[0m\u001b[38;5;34m14,714,688\u001b[0m (56.13 MB)\n"
      ]
     },
     "metadata": {},
     "output_type": "display_data"
    },
    {
     "data": {
      "text/html": [
       "<pre style=\"white-space:pre;overflow-x:auto;line-height:normal;font-family:Menlo,'DejaVu Sans Mono',consolas,'Courier New',monospace\"><span style=\"font-weight: bold\"> Optimizer params: </span><span style=\"color: #00af00; text-decoration-color: #00af00\">2</span> (12.00 B)\n",
       "</pre>\n"
      ],
      "text/plain": [
       "\u001b[1m Optimizer params: \u001b[0m\u001b[38;5;34m2\u001b[0m (12.00 B)\n"
      ]
     },
     "metadata": {},
     "output_type": "display_data"
    }
   ],
   "source": [
    "# Loading the custom fruit freshness model\n",
    "model = load_model('fruit_freshness_model.h5')\n",
    "\n",
    "# Display the model's architecture\n",
    "model.summary()\n"
   ]
  },
  {
   "cell_type": "code",
   "execution_count": 7,
   "id": "f8230252",
   "metadata": {},
   "outputs": [
    {
     "name": "stdout",
     "output_type": "stream",
     "text": [
      "Found 3846 images belonging to 30 classes.\n"
     ]
    },
    {
     "name": "stderr",
     "output_type": "stream",
     "text": [
      "C:\\Users\\Prinshu Kumar\\anaconda3\\lib\\site-packages\\keras\\src\\trainers\\data_adapters\\py_dataset_adapter.py:121: UserWarning: Your `PyDataset` class should call `super().__init__(**kwargs)` in its constructor. `**kwargs` can include `workers`, `use_multiprocessing`, `max_queue_size`. Do not pass these arguments to `fit()`, as they will be ignored.\n",
      "  self._warn_if_super_not_called()\n"
     ]
    },
    {
     "name": "stdout",
     "output_type": "stream",
     "text": [
      "\u001b[1m 79/121\u001b[0m \u001b[32m━━━━━━━━━━━━━\u001b[0m\u001b[37m━━━━━━━\u001b[0m \u001b[1m3:40\u001b[0m 5s/step"
     ]
    },
    {
     "name": "stderr",
     "output_type": "stream",
     "text": [
      "C:\\Users\\Prinshu Kumar\\anaconda3\\lib\\site-packages\\PIL\\Image.py:959: UserWarning: Palette images with Transparency expressed in bytes should be converted to RGBA images\n",
      "  warnings.warn(\n"
     ]
    },
    {
     "name": "stdout",
     "output_type": "stream",
     "text": [
      "\u001b[1m121/121\u001b[0m \u001b[32m━━━━━━━━━━━━━━━━━━━━\u001b[0m\u001b[37m\u001b[0m \u001b[1m649s\u001b[0m 5s/step\n",
      "Weighted F1 Score: 0.6709\n"
     ]
    }
   ],
   "source": [
    "import numpy as np\n",
    "from tensorflow.keras.preprocessing.image import ImageDataGenerator\n",
    "from sklearn.metrics import f1_score\n",
    "\n",
    "# Directory for test data\n",
    "test_dir = r'Data/test'  \n",
    "\n",
    "# Image Data Generator for test data (rescale)\n",
    "test_datagen = ImageDataGenerator(rescale=1./255)  # Normalize pixel values\n",
    "\n",
    "# Load the test images with categorical class mode\n",
    "test_generator = test_datagen.flow_from_directory(\n",
    "    test_dir,\n",
    "    target_size=(224, 224),  \n",
    "    batch_size=32,           \n",
    "    class_mode='categorical',  \n",
    "    shuffle=False            \n",
    ")  \n",
    "\n",
    "# Predict on the test set\n",
    "y_pred_prob = model.predict(test_generator)\n",
    "y_pred = np.argmax(y_pred_prob, axis=1)  # Convert predictions to class indices\n",
    "\n",
    "# Get the true labels\n",
    "y_true = test_generator.classes\n",
    "\n",
    "# Calculate F1 Score\n",
    "f1 = f1_score(y_true, y_pred, average='weighted')\n",
    "print(f'Weighted F1 Score: {f1:.4f}')\n"
   ]
  },
  {
   "cell_type": "markdown",
   "id": "2ed9907a",
   "metadata": {},
   "source": [
    "# Displaying classification report (precision, recall, F1-score for each class)\n"
   ]
  },
  {
   "cell_type": "code",
   "execution_count": 8,
   "id": "8e0c2b05",
   "metadata": {},
   "outputs": [
    {
     "name": "stdout",
     "output_type": "stream",
     "text": [
      "                             precision    recall  f1-score   support\n",
      "\n",
      "                  Bad Apple       0.80      0.33      0.46       126\n",
      "                 Bad Banana       0.72      0.98      0.83       127\n",
      "             Bad Bellpepper       0.92      0.31      0.46       155\n",
      "               Bad Cucumber       0.91      0.88      0.89        81\n",
      "                 Bad Grapes       0.62      0.86      0.72       126\n",
      "     Bad Indian Green Chile       0.88      0.92      0.90       116\n",
      "                  Bad Mango       0.92      0.85      0.88       126\n",
      "                 Bad Orange       0.66      0.95      0.78       132\n",
      "                 Bad Potato       0.94      0.75      0.83       116\n",
      "                 Bad Tomato       0.70      0.80      0.75       148\n",
      "                Fresh Apple       0.86      0.13      0.22       292\n",
      "               Fresh Banana       0.77      0.87      0.82       150\n",
      "           Fresh Bellpepper       0.34      0.87      0.49        86\n",
      "             Fresh Cucumber       0.91      0.96      0.93       179\n",
      "               Fresh Grapes       0.74      0.64      0.69       154\n",
      "   Fresh Indian Green Chile       0.99      0.73      0.84        93\n",
      "                Fresh Mango       0.73      0.95      0.83       153\n",
      "               Fresh Orange       1.00      0.11      0.19       151\n",
      "               Fresh Potato       0.70      0.88      0.78       123\n",
      "               Fresh Tomato       0.89      0.59      0.71       252\n",
      "             Moderate Apple       0.33      0.94      0.48       129\n",
      "            Moderate Banana       0.91      0.54      0.68       132\n",
      "        Moderate Bellpepper       0.29      0.10      0.14        42\n",
      "          Moderate Cucumber       0.87      0.52      0.65        25\n",
      "            Moderate Grapes       0.81      0.72      0.76       122\n",
      "Moderate Indian Green Chile       0.56      0.61      0.58        46\n",
      "             Moderate Mango       0.91      0.65      0.76       124\n",
      "            Moderate Orange       0.47      0.94      0.63       130\n",
      "            Moderate Potato       0.96      1.00      0.98       133\n",
      "            Moderate Tomato       0.44      0.81      0.57        77\n",
      "\n",
      "                   accuracy                           0.69      3846\n",
      "                  macro avg       0.75      0.71      0.68      3846\n",
      "               weighted avg       0.78      0.69      0.67      3846\n",
      "\n",
      "Confusion Matrix:\n",
      "[[ 41   0   0   0   3   0   3  17   0   1   6   0   0   0   0   0   1   0\n",
      "    0   3  50   0   0   0   0   0   0   0   0   1]\n",
      " [  0 125   0   0   0   0   0   0   0   0   0   2   0   0   0   0   0   0\n",
      "    0   0   0   0   0   0   0   0   0   0   0   0]\n",
      " [  0   0  48   0   0   0   0   0   0   0   0   0 105   0   0   0   0   0\n",
      "    0   0   0   0   2   0   0   0   0   0   0   0]\n",
      " [  0   0   0  71   0   0   0   0   0   0   0   0   0   9   0   0   0   0\n",
      "    0   0   0   0   0   1   0   0   0   0   0   0]\n",
      " [  0   1   0   0 108   0   0   0   0   0   0   0   0   0  14   0   0   0\n",
      "    0   0   0   0   0   0   3   0   0   0   0   0]\n",
      " [  0   6   0   0   0 107   0   0   0   0   0   0   0   0   0   0   0   0\n",
      "    0   0   0   0   0   0   0   2   0   0   1   0]\n",
      " [  0   1   0   0   0   0 107   2   0   0   0   0   0   0   0   0  12   0\n",
      "    0   0   0   0   0   0   0   0   4   0   0   0]\n",
      " [  0   0   0   0   0   0   0 125   0   0   0   0   0   0   0   0   2   0\n",
      "    0   0   3   0   0   0   0   0   0   2   0   0]\n",
      " [  0   0   0   0   0   0   1   2  87   1   0   0   1   0   0   0   0   0\n",
      "   21   0   0   0   0   0   0   0   0   0   2   1]\n",
      " [  0   0   0   0   0   0   0   0   0 119   0   0   0   0   0   0   0   0\n",
      "    3   6   0   0   0   0   0   0   0   0   0  20]\n",
      " [  9   0   0   0   5   0   0  19   0   2  37   0   0   0   0   0  10   0\n",
      "   22   0 181   0   0   0   0   0   0   7   0   0]\n",
      " [  0  11   0   0   0   0   0   0   0   0   0 131   1   0   0   0   0   0\n",
      "    0   0   0   7   0   0   0   0   0   0   0   0]\n",
      " [  0   0   3   0   0   0   0   0   0   0   0   0  75   0   0   0   0   0\n",
      "    0   0   0   0   8   0   0   0   0   0   0   0]\n",
      " [  0   0   0   3   0   0   0   0   1   0   0   0   1 172   0   0   0   0\n",
      "    1   0   0   0   0   1   0   0   0   0   0   0]\n",
      " [  0   0   0   0  37   0   0   0   0   0   0   0   0   0  99   0   0   0\n",
      "    0   0   0   0   0   0  18   0   0   0   0   0]\n",
      " [  0   3   0   0   0   2   0   0   0   0   0   0   0   0   0  68   0   0\n",
      "    0   0   0   0   0   0   0  20   0   0   0   0]\n",
      " [  0   0   0   0   0   0   2   1   0   0   0   0   0   0   0   0 146   0\n",
      "    0   0   0   0   0   0   0   0   4   0   0   0]\n",
      " [  0   0   0   0   0   0   0   7   0   1   0   0   0   0   0   0   0  16\n",
      "    0   0   4   0   0   0   0   0   0 123   0   0]\n",
      " [  0   0   0   0   0   0   0   1   5   1   0   0   2   0   0   0   2   0\n",
      "  108   0   1   0   0   0   0   0   0   0   2   1]\n",
      " [  0   0   0   0   6   0   0   0   0  39   0   0   0   0   0   0   0   0\n",
      "    0 149   3   0   0   0   0   0   0   0   0  55]\n",
      " [  0   0   0   0   0   0   0   1   0   0   0   0   0   0   0   0   1   0\n",
      "    0   0 121   0   0   0   0   0   0   6   0   0]\n",
      " [  0  23   0   0   0   0   1   0   0   0   0  37   0   0   0   0   0   0\n",
      "    0   0   0  71   0   0   0   0   0   0   0   0]\n",
      " [  0   0   1   0   0   0   0   0   0   0   0   0  37   0   0   0   0   0\n",
      "    0   0   0   0   4   0   0   0   0   0   0   0]\n",
      " [  0   0   0   4   0   0   0   0   0   0   0   0   0   8   0   0   0   0\n",
      "    0   0   0   0   0  13   0   0   0   0   0   0]\n",
      " [  0   0   0   0  14   0   0   0   0   0   0   0   0   0  20   0   0   0\n",
      "    0   0   0   0   0   0  88   0   0   0   0   0]\n",
      " [  0   4   0   0   0  13   0   0   0   0   0   0   0   0   0   1   0   0\n",
      "    0   0   0   0   0   0   0  28   0   0   0   0]\n",
      " [  0   0   0   0   0   0   2   8   0   0   0   0   0   0   0   0  25   0\n",
      "    0   0   8   0   0   0   0   0  81   0   0   0]\n",
      " [  0   0   0   0   0   0   0   7   0   0   0   0   0   0   0   0   0   0\n",
      "    0   0   1   0   0   0   0   0   0 122   0   0]\n",
      " [  0   0   0   0   0   0   0   0   0   0   0   0   0   0   0   0   0   0\n",
      "    0   0   0   0   0   0   0   0   0   0 133   0]\n",
      " [  1   0   0   0   0   0   0   0   0   5   0   0   0   0   0   0   0   0\n",
      "    0   9   0   0   0   0   0   0   0   0   0  62]]\n"
     ]
    }
   ],
   "source": [
    "# Displaying classification report (precision, recall, F1-score for each class)\n",
    "class_labels = list(test_generator.class_indices.keys())\n",
    "print(classification_report(y_true, y_pred, target_names=class_labels))\n",
    "\n",
    "# Confusion Matrix\n",
    "conf_matrix = confusion_matrix(y_true, y_pred)\n",
    "print('Confusion Matrix:')\n",
    "print(conf_matrix)"
   ]
  },
  {
   "cell_type": "code",
   "execution_count": 9,
   "id": "37f6518a",
   "metadata": {},
   "outputs": [
    {
     "name": "stderr",
     "output_type": "stream",
     "text": [
      "WARNING:absl:Compiled the loaded model, but the compiled metrics have yet to be built. `model.compile_metrics` will be empty until you train or evaluate the model.\n",
      "WARNING:absl:Error in loading the saved optimizer state. As a result, your model is starting with a freshly initialized optimizer.\n"
     ]
    },
    {
     "name": "stdout",
     "output_type": "stream",
     "text": [
      "\u001b[1m1/1\u001b[0m \u001b[32m━━━━━━━━━━━━━━━━━━━━\u001b[0m\u001b[37m\u001b[0m \u001b[1m1s\u001b[0m 710ms/step\n",
      "Predicted Class: Bad Apple\n"
     ]
    }
   ],
   "source": [
    "import numpy as np\n",
    "import tensorflow as tf\n",
    "from PIL import Image\n",
    "import os\n",
    "\n",
    "\n",
    "model_path = 'fruit_freshness_model.h5'  \n",
    "model = load_model(model_path)\n",
    "\n",
    "# Define the class labels (update these as per your model)\n",
    "class_labels = ['Bad Apple', 'Bad Banana', 'Bad Bellpepper', 'Bad Cucumber', 'Bad Grapes', \n",
    "                'Bad Indian Green Chile', 'Bad Mango', 'Bad Orange', 'Bad Potato', 'Bad Tomato', \n",
    "                'Fresh Apple', 'Fresh Banana', 'Fresh Bellpepper', 'Fresh Cucumber', 'Fresh Grapes', \n",
    "                'Fresh Indian Green Chile', 'Fresh Mango', 'Fresh Orange', 'Fresh Potato', 'Fresh Tomato', \n",
    "                'Moderate Apple', 'Moderate Banana', 'Moderate Bellpepper', 'Moderate Cucumber', \n",
    "                'Moderate Grapes', 'Moderate Indian Green Chile', 'Moderate Mango', 'Moderate Orange', \n",
    "                'Moderate Potato', 'Moderate Tomato']\n",
    "\n",
    "# Function to load an image and make predictions\n",
    "def predict_image(image_path):\n",
    "    if not os.path.exists(image_path):\n",
    "        print(f\"Error: File not found at {image_path}\")\n",
    "        return None\n",
    "    \n",
    "    try:\n",
    "        # Load and preprocess image\n",
    "        img = Image.open(image_path)\n",
    "        img_resized = img.resize((224, 224))  # Resize to match VGG16's input shape\n",
    "        img_array = np.array(img_resized) / 255.0 \n",
    "        img_array = np.expand_dims(img_array, axis=0)  \n",
    "\n",
    "       \n",
    "        predictions = model.predict(img_array)\n",
    "        predicted_class = class_labels[np.argmax(predictions)]\n",
    "\n",
    "        return predicted_class\n",
    "    except Exception as e:\n",
    "        print(f\"Error in predicting image: {e}\")\n",
    "        return None\n",
    "\n",
    "\n",
    "image_path = 'data/test/Bad Apple/6100533069082640041.jpg' \n",
    "predicted_class = predict_image(image_path)\n",
    "if predicted_class:\n",
    "    print(f'Predicted Class: {predicted_class}')\n",
    "else:\n",
    "    print(\"Prediction failed.\")\n"
   ]
  },
  {
   "cell_type": "code",
   "execution_count": 3,
   "id": "c296af63",
   "metadata": {},
   "outputs": [
    {
     "data": {
      "text/plain": [
       "{'Fresh Apple': 645092.1348576404,\n",
       " 'Fresh Banana': 15370.169119416576,\n",
       " 'Fresh Bell Pepper': 23330.754782432436,\n",
       " 'Fresh Cucumber': 277.94296916110966,\n",
       " 'Fresh Grapes': 23330.754782432436,\n",
       " 'Fresh Indian Green Chile': 23330.754782432436,\n",
       " 'Fresh Mango': 277.94296916110966,\n",
       " 'Fresh Orange': 5.995771324920545,\n",
       " 'Fresh Potato': 295.3274908449173,\n",
       " 'Fresh Tomato': 15370.169119416576,\n",
       " 'Moderate Apple': 15370.169119416576,\n",
       " 'Moderate Banana': 11139.41897966447,\n",
       " 'Moderate Bell Pepper': 113.07685698928096,\n",
       " 'Moderate Cucumber': 3494.564827089312,\n",
       " 'Moderate Grapes': 440004.8432500969,\n",
       " 'Moderate Indian Green Chile': 113.07685698928096,\n",
       " 'Moderate Mango': 208.10538328031532,\n",
       " 'Moderate Orange': 277.94296916110966,\n",
       " 'Moderate Potato': 1747.282413544656,\n",
       " 'Moderate Tomato': 440004.8432500969}"
      ]
     },
     "execution_count": 3,
     "metadata": {},
     "output_type": "execute_result"
    }
   ],
   "source": [
    "def calculate_rate_constant(Ea,A, T):\n",
    "    R = 8.314  # Universal gas constant in J/(mol*K)\n",
    "   \n",
    "    k = A * math.exp(-Ea / (R * T))\n",
    "    return k\n",
    "\n",
    "def predict_shelf_life(Ea,A,T):\n",
    "    \n",
    "    k = calculate_rate_constant(Ea,A, T)\n",
    "    shelf_life = 1 / k\n",
    "    return shelf_life\n",
    "PreExpontialFactor ={'Fresh Apple': 645092.1348576404, 'Fresh Banana': 15370.169119416576, 'Fresh Bell Pepper': 23330.754782432436, 'Fresh Cucumber': 277.94296916110966, 'Fresh Grapes': 23330.754782432436, 'Fresh Indian Green Chile': 23330.754782432436, 'Fresh Mango': 277.94296916110966, 'Fresh Orange': 5.995771324920545, 'Fresh Potato': 295.3274908449173, 'Fresh Tomato': 15370.169119416576, 'Moderate Apple': 15370.169119416576, 'Moderate Banana': 11139.41897966447, 'Moderate Bell Pepper': 113.07685698928096, 'Moderate Cucumber': 3494.564827089312, 'Moderate Grapes': 440004.8432500969, 'Moderate Indian Green Chile': 113.07685698928096, 'Moderate Mango': 208.10538328031532, 'Moderate Orange': 277.94296916110966, 'Moderate Potato': 1747.282413544656, 'Moderate Tomato': 440004.8432500969}\n",
    "AcivationEnergy= {'Fresh Apple': 38867.22294049396, 'Fresh Banana': 27885.777266933837, 'Fresh Bell Pepper': 29754.351047873723, 'Fresh Cucumber': 18772.9053743136, 'Fresh Grapes': 29754.351047873723, 'Fresh Indian Green Chile': 29754.351047873723, 'Fresh Mango': 18772.9053743136, 'Fresh Orange': 10981.445673560118, 'Fresh Potato': 20641.479155253488, 'Fresh Tomato': 27885.777266933837, 'Moderate Apple': 27885.777266933837, 'Moderate Banana': 24816.431036967108, 'Moderate Bell Pepper': 15156.397555273734, 'Moderate Cucumber': 22947.857256027222, 'Moderate Grapes': 33929.302929587335, 'Moderate Indian Green Chile': 15156.397555273734, 'Moderate Mango': 16191.564734321395, 'Moderate Orange': 18772.9053743136, 'Moderate Potato': 22947.857256027222, 'Moderate Tomato': 33929.302929587335}\n",
    "\n",
    "PreExpontialFactor"
   ]
  },
  {
   "cell_type": "code",
   "execution_count": 4,
   "id": "c2fafc42",
   "metadata": {},
   "outputs": [
    {
     "data": {
      "text/plain": [
       "{'Fresh Apple': 38867.22294049396,\n",
       " 'Fresh Banana': 27885.777266933837,\n",
       " 'Fresh Bell Pepper': 29754.351047873723,\n",
       " 'Fresh Cucumber': 18772.9053743136,\n",
       " 'Fresh Grapes': 29754.351047873723,\n",
       " 'Fresh Indian Green Chile': 29754.351047873723,\n",
       " 'Fresh Mango': 18772.9053743136,\n",
       " 'Fresh Orange': 10981.445673560118,\n",
       " 'Fresh Potato': 20641.479155253488,\n",
       " 'Fresh Tomato': 27885.777266933837,\n",
       " 'Moderate Apple': 27885.777266933837,\n",
       " 'Moderate Banana': 24816.431036967108,\n",
       " 'Moderate Bell Pepper': 15156.397555273734,\n",
       " 'Moderate Cucumber': 22947.857256027222,\n",
       " 'Moderate Grapes': 33929.302929587335,\n",
       " 'Moderate Indian Green Chile': 15156.397555273734,\n",
       " 'Moderate Mango': 16191.564734321395,\n",
       " 'Moderate Orange': 18772.9053743136,\n",
       " 'Moderate Potato': 22947.857256027222,\n",
       " 'Moderate Tomato': 33929.302929587335}"
      ]
     },
     "execution_count": 4,
     "metadata": {},
     "output_type": "execute_result"
    }
   ],
   "source": [
    "AcivationEnergy"
   ]
  },
  {
   "cell_type": "code",
   "execution_count": 6,
   "id": "35c419ba",
   "metadata": {},
   "outputs": [
    {
     "name": "stdout",
     "output_type": "stream",
     "text": [
      "Enter The Temp in degree celcius7\n",
      "Fruit: Fresh Apple\n",
      "Shelf Life: 27.385899404362036\n"
     ]
    }
   ],
   "source": []
  },
  {
   "cell_type": "code",
   "execution_count": 3,
   "id": "344ea289",
   "metadata": {},
   "outputs": [
    {
     "name": "stderr",
     "output_type": "stream",
     "text": [
      "WARNING:absl:Compiled the loaded model, but the compiled metrics have yet to be built. `model.compile_metrics` will be empty until you train or evaluate the model.\n",
      "WARNING:absl:Error in loading the saved optimizer state. As a result, your model is starting with a freshly initialized optimizer.\n"
     ]
    },
    {
     "name": "stdout",
     "output_type": "stream",
     "text": [
      "\u001b[1m1/1\u001b[0m \u001b[32m━━━━━━━━━━━━━━━━━━━━\u001b[0m\u001b[37m\u001b[0m \u001b[1m2s\u001b[0m 2s/step\n",
      "Predicted Class: Bad Indian Green Chile\n",
      "Shelf Life: 0 \n"
     ]
    }
   ],
   "source": [
    "import numpy as np\n",
    "import tensorflow as tf\n",
    "from PIL import Image\n",
    "import os\n",
    "import math\n",
    "\n",
    "# Load your trained model (make sure the path is correct)\n",
    "model_path = 'fruit_freshness_resnet_model.h5'  # Ensure the model file has the correct extension\n",
    "model = load_model(model_path)\n",
    "\n",
    "# Define the class labels (update these as per your model)\n",
    "class_labels = ['Bad Apple', 'Bad Banana', 'Bad Bellpepper', 'Bad Cucumber', 'Bad Grapes', \n",
    "                'Bad Indian Green Chile', 'Bad Mango', 'Bad Orange', 'Bad Potato', 'Bad Tomato', \n",
    "                'Fresh Apple', 'Fresh Banana', 'Fresh Bellpepper', 'Fresh Cucumber', 'Fresh Grapes', \n",
    "                'Fresh Indian Green Chile', 'Fresh Mango', 'Fresh Orange', 'Fresh Potato', 'Fresh Tomato', \n",
    "                'Moderate Apple', 'Moderate Banana', 'Moderate Bellpepper', 'Moderate Cucumber', \n",
    "                'Moderate Grapes', 'Moderate Indian Green Chile', 'Moderate Mango', 'Moderate Orange', \n",
    "                'Moderate Potato', 'Moderate Tomato']\n",
    "\n",
    "# Arrhenius equation-related factors\n",
    "PreExpontialFactor = {\n",
    "    'Fresh Apple': 645092.1348576404, 'Fresh Banana': 15370.169119416576, 'Fresh Bellpepper': 23330.754782432436, \n",
    "    'Fresh Cucumber': 277.94296916110966, 'Fresh Grapes': 23330.754782432436, 'Fresh Indian Green Chile': 23330.754782432436, \n",
    "    'Fresh Mango': 277.94296916110966, 'Fresh Orange': 5.995771324920545, 'Fresh Potato': 295.3274908449173, \n",
    "    'Fresh Tomato': 15370.169119416576, 'Moderate Apple': 15370.169119416576, 'Moderate Banana': 11139.41897966447, \n",
    "    'Moderate Bell Pepper': 113.07685698928096, 'Moderate Cucumber': 3494.564827089312, 'Moderate Grapes': 440004.8432500969, \n",
    "    'Moderate Indian Green Chile': 113.07685698928096, 'Moderate Mango': 208.10538328031532, 'Moderate Orange': 277.94296916110966, \n",
    "    'Moderate Potato': 1747.282413544656, 'Moderate Tomato': 440004.8432500969\n",
    "}\n",
    "\n",
    "AcivationEnergy = {\n",
    "    'Fresh Apple': 38867.22294049396, 'Fresh Banana': 27885.777266933837, 'Fresh Bellpepper': 29754.351047873723, \n",
    "    'Fresh Cucumber': 18772.9053743136, 'Fresh Grapes': 29754.351047873723, 'Fresh Indian Green Chile': 29754.351047873723, \n",
    "    'Fresh Mango': 18772.9053743136, 'Fresh Orange': 10981.445673560118, 'Fresh Potato': 20641.479155253488, \n",
    "    'Fresh Tomato': 27885.777266933837, 'Moderate Apple': 27885.777266933837, 'Moderate Banana': 24816.431036967108, \n",
    "    'Moderate Bell Pepper': 15156.397555273734, 'Moderate Cucumber': 22947.857256027222, 'Moderate Grapes': 33929.302929587335, \n",
    "    'Moderate Indian Green Chile': 15156.397555273734, 'Moderate Mango': 16191.564734321395, 'Moderate Orange': 18772.9053743136, \n",
    "    'Moderate Potato': 22947.857256027222, 'Moderate Tomato': 33929.302929587335\n",
    "}\n",
    "\n",
    "# Arrhenius equation: calculates the rate constant 'k' and shelf life\n",
    "def calculate_rate_constant(Ea, A, T):\n",
    "    R = 8.314  # Universal gas constant in J/(mol*K)\n",
    "    k = A * math.exp(-Ea / (R * T))\n",
    "    return k\n",
    "\n",
    "def predict_shelf_life(Ea, A, T):\n",
    "    k = calculate_rate_constant(Ea, A, T)\n",
    "    shelf_life = 1 / k\n",
    "    return shelf_life\n",
    "\n",
    "# Function to load an image and make predictions\n",
    "def predict_image(image_path):\n",
    "    if not os.path.exists(image_path):\n",
    "        print(f\"Error: File not found at {image_path}\")\n",
    "        return None\n",
    "    \n",
    "    try:\n",
    "        # Load and preprocess image\n",
    "        img = Image.open(image_path)\n",
    "        img_resized = img.resize((224, 224))  # Resize to match VGG16's input shape\n",
    "        img_array = np.array(img_resized) / 255.0  # Normalize pixel values\n",
    "        img_array = np.expand_dims(img_array, axis=0)  # Add batch dimension\n",
    "\n",
    "        # Make prediction\n",
    "        predictions = model.predict(img_array)\n",
    "        predicted_class = class_labels[np.argmax(predictions)]\n",
    "\n",
    "        return predicted_class\n",
    "    except Exception as e:\n",
    "        print(f\"Error in predicting image: {e}\")\n",
    "        return None\n",
    "\n",
    "# Main flow\n",
    "image_path = 'apple.jpg'  # Update this path to your image\n",
    "predicted_class = predict_image(image_path)\n",
    "\n",
    "if predicted_class:\n",
    "    print(f'Predicted Class: {predicted_class}')\n",
    "    \n",
    "    if predicted_class in ['Bad Apple', 'Bad Banana', 'Bad Bellpepper', 'Bad Cucumber', 'Bad Grapes', \n",
    "                           'Bad Indian Green Chile', 'Bad Mango', 'Bad Orange', 'Bad Potato', 'Bad Tomato']:\n",
    "        print(\"Shelf Life: 0 \")\n",
    "    else:\n",
    "        # Get temperature input\n",
    "        T = float(input(\"Enter the temperature in degrees Celsius: \")) + 273.15  # Convert Celsius to Kelvin\n",
    "\n",
    "        # Calculate shelf life for fresh or moderate fruits\n",
    "        Ea = AcivationEnergy[predicted_class]\n",
    "        A = PreExpontialFactor[predicted_class]\n",
    "        shelf_life = predict_shelf_life(Ea, A, T)\n",
    "\n",
    "        print(f\"Shelf Life for {predicted_class}: {shelf_life:.2f} days\")\n",
    "else:\n",
    "    print(\"Prediction failed.\")\n"
   ]
  }
 ],
 "metadata": {
  "kernelspec": {
   "display_name": "Python 3 (ipykernel)",
   "language": "python",
   "name": "python3"
  },
  "language_info": {
   "codemirror_mode": {
    "name": "ipython",
    "version": 3
   },
   "file_extension": ".py",
   "mimetype": "text/x-python",
   "name": "python",
   "nbconvert_exporter": "python",
   "pygments_lexer": "ipython3",
   "version": "3.9.13"
  }
 },
 "nbformat": 4,
 "nbformat_minor": 5
}
