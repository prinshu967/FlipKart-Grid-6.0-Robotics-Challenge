{
 "cells": [
  {
   "cell_type": "markdown",
   "id": "12f3631b",
   "metadata": {},
   "source": [
    "# The terms we have used and their definations\n",
    "1. Arrhenius Equation:\n",
    "\n",
    " The Arrhenius equation is a mathematical formula that describes how the rate of a chemical reaction depends on temperature. It shows that as temperature increases, the reaction rate also increases. The equation is expressed as:\n",
    "![Arrhenius Equation](https://cdn1.byjus.com/wp-content/uploads/2015/12/Arrhenius-Equation-1.png)\n",
    "\n",
    "2. Activation Energy (Eₐ):\n",
    "\n",
    "Activation energy is the minimum amount of energy that must be provided to the reactants for a chemical reaction to proceed. It represents the energy barrier that must be overcome for the reactants to transform into products.\n",
    "3. Pre-exponential Factor (A):\n",
    "\n",
    "The pre-exponential factor, also known as the frequency factor, is a constant in the Arrhenius equation that represents the number of times molecules collide in a way that can lead to a reaction. It reflects the frequency and correct orientation of collisions that are necessary for a reaction to occur."
   ]
  },
  {
   "cell_type": "markdown",
   "id": "b336e7c9",
   "metadata": {},
   "source": [
    "# Defining The Function For Calculating  Activation Energy & PreExpontial factor"
   ]
  },
  {
   "cell_type": "code",
   "execution_count": 1,
   "id": "e6d3a292",
   "metadata": {},
   "outputs": [
    {
     "name": "stdout",
     "output_type": "stream",
     "text": [
      "Activation Energy (Ea) = 64720.69 J/mol\n",
      "Pre-exponential Factor at T1 = 1.56e+10\n",
      "Pre-exponential Factor at T2 = 1.56e+10\n"
     ]
    }
   ],
   "source": [
    "import math\n",
    "\n",
    "def calculate_activation_energy(T1, T2, shelf_life1, shelf_life2):\n",
    "    # Constants\n",
    "    R = 8.314  # Universal gas constant in J/(mol*K)\n",
    "    \n",
    "    # Convert shelf life to rate constants (inverse relation to shelf life)\n",
    "    k1 = 1.0 / shelf_life1\n",
    "    k2 = 1.0 / shelf_life2\n",
    "    \n",
    "    # Calculate activation energy (Ea) using Arrhenius equation\n",
    "    Ea = R * (math.log(k1 / k2)) / ((1.0 / T2) - (1.0 / T1))\n",
    "    \n",
    "    return Ea  # Return the activation energy in J/mol\n",
    "\n",
    "def calculate_pre_exponential_factor(T, Ea, shelf_life):\n",
    "    # Constants\n",
    "    R = 8.314  # Universal gas constant in J/(mol*K)\n",
    "    \n",
    "    # Convert shelf life to rate constant\n",
    "    k = 1.0 / shelf_life\n",
    "    \n",
    "    # Calculate pre-exponential factor (A)\n",
    "    A = k / math.exp(-Ea / (R * T))\n",
    "    \n",
    "    return A\n",
    "\n",
    "# Example temperatures (in Kelvin) and shelf lives (in days)\n",
    "T1 = 298.15  # Temperature 1 in Kelvin (e.g., 25°C)\n",
    "T2 = 308.15  # Temperature 2 in Kelvin (e.g., 35°C)\n",
    "shelf_life1 = 14.0  # Shelf life at T1 (in days)\n",
    "shelf_life2 = 6.0   # Shelf life at T2 (in days)\n",
    "\n",
    "# Calculate activation energy\n",
    "Ea = calculate_activation_energy(T1, T2, shelf_life1, shelf_life2)\n",
    "\n",
    "# Calculate pre-exponential factors for T1 and T2\n",
    "A1 = calculate_pre_exponential_factor(T1, Ea, shelf_life1)\n",
    "A2 = calculate_pre_exponential_factor(T2, Ea, shelf_life2)\n",
    "\n",
    "# Output the results\n",
    "print(f\"Activation Energy (Ea) = {Ea:.2f} J/mol\")\n",
    "print(f\"Pre-exponential Factor at T1 = {A1:.2e}\")\n",
    "print(f\"Pre-exponential Factor at T2 = {A2:.2e}\")\n"
   ]
  },
  {
   "cell_type": "code",
   "execution_count": null,
   "id": "d527e401",
   "metadata": {},
   "outputs": [],
   "source": []
  },
  {
   "cell_type": "code",
   "execution_count": null,
   "id": "04325cae",
   "metadata": {},
   "outputs": [],
   "source": []
  },
  {
   "cell_type": "code",
   "execution_count": 2,
   "id": "5be7fb84",
   "metadata": {},
   "outputs": [],
   "source": [
    "def calculate_rate_constant(Ea , T):\n",
    "    R = 8.314  # Universal gas constant in J/(mol*K)\n",
    "    A = 1.56e+10  # Use the pre-exponential factor from your data\n",
    "    k = A * math.exp(-Ea / (R * T))\n",
    "    return k\n"
   ]
  },
  {
   "cell_type": "code",
   "execution_count": null,
   "id": "c03ac210",
   "metadata": {},
   "outputs": [],
   "source": []
  },
  {
   "cell_type": "code",
   "execution_count": null,
   "id": "ed4f30b5",
   "metadata": {},
   "outputs": [],
   "source": []
  },
  {
   "cell_type": "code",
   "execution_count": 3,
   "id": "7d55e0cf",
   "metadata": {},
   "outputs": [],
   "source": [
    "def predict_shelf_life(Ea,T):\n",
    "    \n",
    "    k = calculate_rate_constant(Ea, T)\n",
    "    shelf_life = 1 / k\n",
    "    return shelf_life\n"
   ]
  },
  {
   "cell_type": "markdown",
   "id": "c557beb6",
   "metadata": {},
   "source": [
    "# Caculating The Activation energy of and Pre Expontial Factor of differet quality of fruits"
   ]
  },
  {
   "cell_type": "markdown",
   "id": "52d96697",
   "metadata": {},
   "source": [
    "#  Data25 represents the shelf life at 25°C (i.e 298.15 kelvin).  \n",
    "* we have gathered this data through Google research and personal experience.\n",
    "* Please note that the actual shelf life may vary.\""
   ]
  },
  {
   "cell_type": "markdown",
   "id": "f99a99a6",
   "metadata": {},
   "source": []
  },
  {
   "cell_type": "code",
   "execution_count": 4,
   "id": "67a3d76f",
   "metadata": {},
   "outputs": [
    {
     "data": {
      "text/plain": [
       "{'Fresh Apple': 10,\n",
       " 'Fresh Banana': 5,\n",
       " 'Fresh Bell Pepper': 7,\n",
       " 'Fresh Cucumber': 7,\n",
       " 'Fresh Grapes': 7,\n",
       " 'Fresh Indian Green Chile': 7,\n",
       " 'Fresh Mango': 7,\n",
       " 'Fresh Orange': 14,\n",
       " 'Fresh Potato': 14,\n",
       " 'Fresh Tomato': 5,\n",
       " 'Moderate Apple': 5,\n",
       " 'Moderate Banana': 2,\n",
       " 'Moderate Bell Pepper': 4,\n",
       " 'Moderate Cucumber': 3,\n",
       " 'Moderate Grapes': 2,\n",
       " 'Moderate Indian Green Chile': 4,\n",
       " 'Moderate Mango': 3.3,\n",
       " 'Moderate Orange': 7,\n",
       " 'Moderate Potato': 6,\n",
       " 'Moderate Tomato': 2,\n",
       " 'Bad Apple': 0,\n",
       " 'Bad Banana': 0,\n",
       " 'Bad Bell Pepper': 0,\n",
       " 'Bad Cucumber': 0,\n",
       " 'Bad Grapes': 0,\n",
       " 'Bad Indian Green Chile': 0,\n",
       " 'Bad Mango': 0,\n",
       " 'Bad Orange': 0,\n",
       " 'Bad Potato': 0,\n",
       " 'Bad Tomato': 0}"
      ]
     },
     "execution_count": 4,
     "metadata": {},
     "output_type": "execute_result"
    }
   ],
   "source": [
    "\n",
    "\n",
    "data25={\n",
    "    \"Fresh Apple\":10,\n",
    "    \"Fresh Banana\":5,\n",
    "    \"Fresh Bell Pepper\":7,\n",
    "    \"Fresh Cucumber\":7,\n",
    "    \"Fresh Grapes\":7,\n",
    "    \"Fresh Indian Green Chile\":7,\n",
    "    \"Fresh Mango\":7,\n",
    "    \"Fresh Orange\":14,\n",
    "    \"Fresh Potato\":14,\n",
    "    \"Fresh Tomato\":5,\n",
    "    \n",
    "    \"Moderate Apple\":5,\n",
    "    \"Moderate Banana\":2,\n",
    "    \"Moderate Bell Pepper\":4,\n",
    "    \"Moderate Cucumber\":3,\n",
    "    \"Moderate Grapes\":2,\n",
    "    \"Moderate Indian Green Chile\":4,\n",
    "    \"Moderate Mango\":3.3,\n",
    "    \"Moderate Orange\":7,\n",
    "    \"Moderate Potato\":6,\n",
    "    \"Moderate Tomato\":2,\n",
    "    \n",
    "    \"Bad Apple\":0,\n",
    "    \"Bad Banana\":0,\n",
    "    \"Bad Bell Pepper\":0,\n",
    "    \"Bad Cucumber\":0,\n",
    "    \"Bad Grapes\":0,\n",
    "    \"Bad Indian Green Chile\":0,\n",
    "    \"Bad Mango\":0,\n",
    "    \"Bad Orange\":0,\n",
    "    \"Bad Potato\":0,\n",
    "    \"Bad Tomato\":0\n",
    "}\n",
    "data25"
   ]
  },
  {
   "cell_type": "markdown",
   "id": "e379bd63",
   "metadata": {},
   "source": [
    "# Data0 represents the shelf life at 0°C(i.e 273.15 kelvin)"
   ]
  },
  {
   "cell_type": "code",
   "execution_count": 5,
   "id": "24609b40",
   "metadata": {},
   "outputs": [
    {
     "data": {
      "text/plain": [
       "{'Fresh Apple': 42,\n",
       " 'Fresh Banana': 14,\n",
       " 'Fresh Bell Pepper': 21,\n",
       " 'Fresh Cucumber': 14,\n",
       " 'Fresh Grapes': 21,\n",
       " 'Fresh Indian Green Chile': 21,\n",
       " 'Fresh Mango': 14,\n",
       " 'Fresh Orange': 21,\n",
       " 'Fresh Potato': 30,\n",
       " 'Fresh Tomato': 14,\n",
       " 'Moderate Apple': 14,\n",
       " 'Moderate Banana': 5,\n",
       " 'Moderate Bell Pepper': 7,\n",
       " 'Moderate Cucumber': 7,\n",
       " 'Moderate Grapes': 7,\n",
       " 'Moderate Indian Green Chile': 7,\n",
       " 'Moderate Mango': 6,\n",
       " 'Moderate Orange': 14,\n",
       " 'Moderate Potato': 14,\n",
       " 'Moderate Tomato': 7,\n",
       " 'Bad Apple': 0,\n",
       " 'Bad Banana': 0,\n",
       " 'Bad Bell Pepper': 0,\n",
       " 'Bad Cucumber': 0,\n",
       " 'Bad Grapes': 0,\n",
       " 'Bad Indian Green Chile': 0,\n",
       " 'Bad Mango': 0,\n",
       " 'Bad Orange': 0,\n",
       " 'Bad Potato': 0,\n",
       " 'Bad Tomato': 0}"
      ]
     },
     "execution_count": 5,
     "metadata": {},
     "output_type": "execute_result"
    }
   ],
   "source": [
    "\n",
    "\n",
    "data0={\n",
    "    \"Fresh Apple\":42,\n",
    "    \"Fresh Banana\":14,\n",
    "    \"Fresh Bell Pepper\":21,\n",
    "    \"Fresh Cucumber\":14,\n",
    "    \"Fresh Grapes\":21,\n",
    "    \"Fresh Indian Green Chile\":21,\n",
    "    \"Fresh Mango\":14,\n",
    "    \"Fresh Orange\":21,\n",
    "    \"Fresh Potato\":30,\n",
    "    \"Fresh Tomato\":14,\n",
    "    \n",
    "    \"Moderate Apple\":14,\n",
    "    \"Moderate Banana\":5,\n",
    "    \"Moderate Bell Pepper\":7,\n",
    "    \"Moderate Cucumber\":7,\n",
    "    \"Moderate Grapes\":7,\n",
    "    \"Moderate Indian Green Chile\":7,\n",
    "    \"Moderate Mango\":6,\n",
    "    \"Moderate Orange\":14,\n",
    "    \"Moderate Potato\":14,\n",
    "    \"Moderate Tomato\":7,\n",
    "    \n",
    "    \"Bad Apple\":0,\n",
    "    \"Bad Banana\":0,\n",
    "    \"Bad Bell Pepper\":0,\n",
    "    \"Bad Cucumber\":0,\n",
    "    \"Bad Grapes\":0,\n",
    "    \"Bad Indian Green Chile\":0,\n",
    "    \"Bad Mango\":0,\n",
    "    \"Bad Orange\":0,\n",
    "    \"Bad Potato\":0,\n",
    "    \"Bad Tomato\":0\n",
    "}\n",
    "data0"
   ]
  },
  {
   "cell_type": "code",
   "execution_count": null,
   "id": "d803ada1",
   "metadata": {},
   "outputs": [],
   "source": []
  },
  {
   "cell_type": "code",
   "execution_count": 8,
   "id": "5b665c89",
   "metadata": {},
   "outputs": [
    {
     "name": "stdout",
     "output_type": "stream",
     "text": [
      "Skipping Bad Apple due to zero shelf life\n",
      "Skipping Bad Banana due to zero shelf life\n",
      "Skipping Bad Bell Pepper due to zero shelf life\n",
      "Skipping Bad Cucumber due to zero shelf life\n",
      "Skipping Bad Grapes due to zero shelf life\n",
      "Skipping Bad Indian Green Chile due to zero shelf life\n",
      "Skipping Bad Mango due to zero shelf life\n",
      "Skipping Bad Orange due to zero shelf life\n",
      "Skipping Bad Potato due to zero shelf life\n",
      "Skipping Bad Tomato due to zero shelf life\n",
      "PreExpontialFactor {'Fresh Apple': 645092.1348576404, 'Fresh Banana': 15370.169119416576, 'Fresh Bell Pepper': 23330.754782432436, 'Fresh Cucumber': 277.94296916110966, 'Fresh Grapes': 23330.754782432436, 'Fresh Indian Green Chile': 23330.754782432436, 'Fresh Mango': 277.94296916110966, 'Fresh Orange': 5.995771324920545, 'Fresh Potato': 295.3274908449173, 'Fresh Tomato': 15370.169119416576, 'Moderate Apple': 15370.169119416576, 'Moderate Banana': 11139.41897966447, 'Moderate Bell Pepper': 113.07685698928096, 'Moderate Cucumber': 3494.564827089312, 'Moderate Grapes': 440004.8432500969, 'Moderate Indian Green Chile': 113.07685698928096, 'Moderate Mango': 208.10538328031532, 'Moderate Orange': 277.94296916110966, 'Moderate Potato': 1747.282413544656, 'Moderate Tomato': 440004.8432500969}\n",
      "AcivationEnergy {'Fresh Apple': 38867.22294049396, 'Fresh Banana': 27885.777266933837, 'Fresh Bell Pepper': 29754.351047873723, 'Fresh Cucumber': 18772.9053743136, 'Fresh Grapes': 29754.351047873723, 'Fresh Indian Green Chile': 29754.351047873723, 'Fresh Mango': 18772.9053743136, 'Fresh Orange': 10981.445673560118, 'Fresh Potato': 20641.479155253488, 'Fresh Tomato': 27885.777266933837, 'Moderate Apple': 27885.777266933837, 'Moderate Banana': 24816.431036967108, 'Moderate Bell Pepper': 15156.397555273734, 'Moderate Cucumber': 22947.857256027222, 'Moderate Grapes': 33929.302929587335, 'Moderate Indian Green Chile': 15156.397555273734, 'Moderate Mango': 16191.564734321395, 'Moderate Orange': 18772.9053743136, 'Moderate Potato': 22947.857256027222, 'Moderate Tomato': 33929.302929587335}\n"
     ]
    }
   ],
   "source": [
    "AcivationEnergy={}\n",
    "PreExpontialFactor={}\n",
    "for fruits in data25:\n",
    "    shelf_life1 = data25[fruits]\n",
    "    shelf_life2 = data0[fruits]\n",
    "    if shelf_life1 == 0 or shelf_life2 == 0:\n",
    "            print(f\"Skipping {fruits} due to zero shelf life\")\n",
    "            continue  \n",
    "    Ea = calculate_activation_energy(298.15 , 273.15 ,shelf_life1,shelf_life2)\n",
    "    A1 = calculate_pre_exponential_factor(298.15, Ea, shelf_life1)  #PreExpontial factor will be same at 25 °C & 0°C  \n",
    "    AcivationEnergy[fruits]=Ea\n",
    "    PreExpontialFactor[fruits]=A1\n",
    "    \n",
    "    \n",
    "    \n",
    "print(\"PreExpontialFactor\",PreExpontialFactor)\n",
    "print(\"AcivationEnergy\",AcivationEnergy)\n"
   ]
  },
  {
   "cell_type": "markdown",
   "id": "dba4d58f",
   "metadata": {},
   "source": [
    "# Here we cross varify weather the calculated values are vaild or not"
   ]
  },
  {
   "cell_type": "code",
   "execution_count": null,
   "id": "67807337",
   "metadata": {},
   "outputs": [],
   "source": []
  },
  {
   "cell_type": "code",
   "execution_count": 9,
   "id": "7daed7cf",
   "metadata": {},
   "outputs": [],
   "source": [
    "def calculate_rate_constant(Ea,A, T):\n",
    "    R = 8.314  # Universal gas constant in J/(mol*K)\n",
    "   \n",
    "    k = A * math.exp(-Ea / (R * T))\n",
    "    return k\n",
    "\n",
    "def predict_shelf_life(Ea,A,T):\n",
    "    \n",
    "    k = calculate_rate_constant(Ea,A, T)\n",
    "    shelf_life = 1 / k\n",
    "    return shelf_life\n"
   ]
  },
  {
   "cell_type": "code",
   "execution_count": 10,
   "id": "4b927739",
   "metadata": {},
   "outputs": [
    {
     "name": "stdout",
     "output_type": "stream",
     "text": [
      "Shelf Life of Fresh Apple\n",
      "Actual Life Given In data : 10\n",
      "Calculated by Equation: 9.999999999999998\n",
      "\n",
      "Shelf Life of Fresh Banana\n",
      "Actual Life Given In data : 5\n",
      "Calculated by Equation: 5.0\n",
      "\n",
      "Shelf Life of Fresh Bell Pepper\n",
      "Actual Life Given In data : 7\n",
      "Calculated by Equation: 7.0\n",
      "\n",
      "Shelf Life of Fresh Cucumber\n",
      "Actual Life Given In data : 7\n",
      "Calculated by Equation: 7.0\n",
      "\n",
      "Shelf Life of Fresh Grapes\n",
      "Actual Life Given In data : 7\n",
      "Calculated by Equation: 7.0\n",
      "\n",
      "Shelf Life of Fresh Indian Green Chile\n",
      "Actual Life Given In data : 7\n",
      "Calculated by Equation: 7.0\n",
      "\n",
      "Shelf Life of Fresh Mango\n",
      "Actual Life Given In data : 7\n",
      "Calculated by Equation: 7.0\n",
      "\n",
      "Shelf Life of Fresh Orange\n",
      "Actual Life Given In data : 14\n",
      "Calculated by Equation: 14.0\n",
      "\n",
      "Shelf Life of Fresh Potato\n",
      "Actual Life Given In data : 14\n",
      "Calculated by Equation: 14.0\n",
      "\n",
      "Shelf Life of Fresh Tomato\n",
      "Actual Life Given In data : 5\n",
      "Calculated by Equation: 5.0\n",
      "\n",
      "Shelf Life of Moderate Apple\n",
      "Actual Life Given In data : 5\n",
      "Calculated by Equation: 5.0\n",
      "\n",
      "Shelf Life of Moderate Banana\n",
      "Actual Life Given In data : 2\n",
      "Calculated by Equation: 2.0\n",
      "\n",
      "Shelf Life of Moderate Bell Pepper\n",
      "Actual Life Given In data : 4\n",
      "Calculated by Equation: 4.0\n",
      "\n",
      "Shelf Life of Moderate Cucumber\n",
      "Actual Life Given In data : 3\n",
      "Calculated by Equation: 3.0\n",
      "\n",
      "Shelf Life of Moderate Grapes\n",
      "Actual Life Given In data : 2\n",
      "Calculated by Equation: 2.0\n",
      "\n",
      "Shelf Life of Moderate Indian Green Chile\n",
      "Actual Life Given In data : 4\n",
      "Calculated by Equation: 4.0\n",
      "\n",
      "Shelf Life of Moderate Mango\n",
      "Actual Life Given In data : 3.3\n",
      "Calculated by Equation: 3.3\n",
      "\n",
      "Shelf Life of Moderate Orange\n",
      "Actual Life Given In data : 7\n",
      "Calculated by Equation: 7.0\n",
      "\n",
      "Shelf Life of Moderate Potato\n",
      "Actual Life Given In data : 6\n",
      "Calculated by Equation: 6.0\n",
      "\n",
      "Shelf Life of Moderate Tomato\n",
      "Actual Life Given In data : 2\n",
      "Calculated by Equation: 2.0\n",
      "\n",
      "Shelf Life of Bad Apple\n"
     ]
    },
    {
     "ename": "KeyError",
     "evalue": "'Bad Apple'",
     "output_type": "error",
     "traceback": [
      "\u001b[1;31m---------------------------------------------------------------------------\u001b[0m",
      "\u001b[1;31mKeyError\u001b[0m                                  Traceback (most recent call last)",
      "\u001b[1;32m~\\AppData\\Local\\Temp\\ipykernel_18484\\766783441.py\u001b[0m in \u001b[0;36m<module>\u001b[1;34m\u001b[0m\n\u001b[0;32m      1\u001b[0m \u001b[1;32mfor\u001b[0m \u001b[0ma\u001b[0m \u001b[1;32min\u001b[0m \u001b[0mdata25\u001b[0m\u001b[1;33m:\u001b[0m\u001b[1;33m\u001b[0m\u001b[1;33m\u001b[0m\u001b[0m\n\u001b[0;32m      2\u001b[0m     \u001b[0mprint\u001b[0m\u001b[1;33m(\u001b[0m\u001b[1;34m\"Shelf Life of\"\u001b[0m\u001b[1;33m,\u001b[0m\u001b[0ma\u001b[0m\u001b[1;33m)\u001b[0m\u001b[1;33m\u001b[0m\u001b[1;33m\u001b[0m\u001b[0m\n\u001b[1;32m----> 3\u001b[1;33m     \u001b[0mEa\u001b[0m\u001b[1;33m=\u001b[0m\u001b[0mAcivationEnergy\u001b[0m\u001b[1;33m[\u001b[0m\u001b[0ma\u001b[0m\u001b[1;33m]\u001b[0m\u001b[1;33m\u001b[0m\u001b[1;33m\u001b[0m\u001b[0m\n\u001b[0m\u001b[0;32m      4\u001b[0m     \u001b[0mA\u001b[0m\u001b[1;33m=\u001b[0m\u001b[0mPreExpontialFactor\u001b[0m\u001b[1;33m[\u001b[0m\u001b[0ma\u001b[0m\u001b[1;33m]\u001b[0m\u001b[1;33m\u001b[0m\u001b[1;33m\u001b[0m\u001b[0m\n\u001b[0;32m      5\u001b[0m     \u001b[0mprint\u001b[0m\u001b[1;33m(\u001b[0m\u001b[1;34m\"Actual Life Given In data :\"\u001b[0m\u001b[1;33m,\u001b[0m\u001b[0mdata25\u001b[0m\u001b[1;33m[\u001b[0m\u001b[0ma\u001b[0m\u001b[1;33m]\u001b[0m\u001b[1;33m)\u001b[0m\u001b[1;33m\u001b[0m\u001b[1;33m\u001b[0m\u001b[0m\n",
      "\u001b[1;31mKeyError\u001b[0m: 'Bad Apple'"
     ]
    }
   ],
   "source": [
    "for a in data25:\n",
    "    print(\"Shelf Life of\",a)\n",
    "    Ea=AcivationEnergy[a]\n",
    "    A=PreExpontialFactor[a]\n",
    "    print(\"Actual Life Given In data :\",data25[a])\n",
    "    print(\"Calculated by Equation:\",predict_shelf_life(Ea,A,298.15))\n",
    "    print()"
   ]
  },
  {
   "cell_type": "code",
   "execution_count": 11,
   "id": "7df84fca",
   "metadata": {},
   "outputs": [],
   "source": []
  },
  {
   "cell_type": "markdown",
   "id": "8e50b824",
   "metadata": {},
   "source": [
    "\n"
   ]
  },
  {
   "cell_type": "code",
   "execution_count": null,
   "id": "f4d680ed",
   "metadata": {},
   "outputs": [],
   "source": []
  }
 ],
 "metadata": {
  "kernelspec": {
   "display_name": "Python 3 (ipykernel)",
   "language": "python",
   "name": "python3"
  },
  "language_info": {
   "codemirror_mode": {
    "name": "ipython",
    "version": 3
   },
   "file_extension": ".py",
   "mimetype": "text/x-python",
   "name": "python",
   "nbconvert_exporter": "python",
   "pygments_lexer": "ipython3",
   "version": "3.9.13"
  }
 },
 "nbformat": 4,
 "nbformat_minor": 5
}
